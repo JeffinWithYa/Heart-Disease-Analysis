{
 "cells": [
  {
   "cell_type": "markdown",
   "metadata": {},
   "source": [
    "## Introduction\n",
    "Diagnosing heart disease is an important part of a doctor's job. This allows them to take necessary steps in order to prevent severe health degradation in the patient. This is not always possible because it is hard to have a physician to diagnose the person with heart disease all the time. This notebook is an analysis of a few classification algorithms that can be used to diagnose heart disease automatically. Classification algorithms can possibly be implemented in smart medical devices that can alert the patient of possible heart disease which allows them to seek help to mitigate the health risks."
   ]
  },
  {
   "cell_type": "code",
   "execution_count": 1,
   "metadata": {},
   "outputs": [],
   "source": [
    "import pandas as pd\n",
    "import numpy as np\n",
    "import matplotlib.pyplot as plt\n",
    "import seaborn as sns\n",
    "from sklearn.preprocessing import StandardScaler\n",
    "from sklearn.model_selection import GridSearchCV,train_test_split\n",
    "from sklearn.linear_model import LogisticRegression\n",
    "from sklearn.svm import SVC\n",
    "from sklearn.ensemble import RandomForestClassifier, AdaBoostClassifier\n",
    "from sklearn.metrics import confusion_matrix, classification_report, roc_curve, auc\n",
    "import pickle\n",
    "import warnings\n",
    "import matplotlib.style as style \n",
    "style.use(\"seaborn-whitegrid\")\n",
    "warnings.filterwarnings('ignore')"
   ]
  },
  {
   "cell_type": "markdown",
   "metadata": {},
   "source": [
    "## Exploratory Data Analysis\n",
    "From the description of the data we know\n",
    "\n",
    "<ul>\n",
    "<li>age - age in years</li>\n",
    "<li>sex - (1 = male; 0 = female)</li>\n",
    "<li>cp - chest pain type</li>\n",
    "<li>trestbps - resting blood pressure (in mm Hg on admission to the hospital)</li>\n",
    "<li>chol - serum cholestoral in mg/dl</li>\n",
    "<li>fbs - (fasting blood sugar > 120 mg/dl) (1 = true; 0 = false)</li>\n",
    "<li>restecg - resting electrocardiographic results</li>\n",
    "<li>thalach - maximum heart rate achieved</li>\n",
    "<li>exang - exercise induced angina (1 = yes; 0 = no)</li>\n",
    "<li>oldpeak - ST depression induced by exercise relative to rest</li>\n",
    "<li>slope - the slope of the peak exercise ST segment</li>\n",
    "<li>ca - number of major vessels (0-3) colored by flourosopy</li>\n",
    "<li>thal - 3 = normal; 6 = fixed defect; 7 = reversable defect</li>\n",
    "<li>target - have disease or not (1=yes, 0=no)</li>\n",
    "</ul>"
   ]
  },
  {
   "cell_type": "code",
   "execution_count": 2,
   "metadata": {},
   "outputs": [
    {
     "name": "stdout",
     "output_type": "stream",
     "text": [
      "<class 'pandas.core.frame.DataFrame'>\n",
      "RangeIndex: 303 entries, 0 to 302\n",
      "Data columns (total 14 columns):\n",
      " #   Column    Non-Null Count  Dtype  \n",
      "---  ------    --------------  -----  \n",
      " 0   age       303 non-null    int64  \n",
      " 1   sex       303 non-null    int64  \n",
      " 2   cp        303 non-null    int64  \n",
      " 3   trestbps  303 non-null    int64  \n",
      " 4   chol      303 non-null    int64  \n",
      " 5   fbs       303 non-null    int64  \n",
      " 6   restecg   303 non-null    int64  \n",
      " 7   thalach   303 non-null    int64  \n",
      " 8   exang     303 non-null    int64  \n",
      " 9   oldpeak   303 non-null    float64\n",
      " 10  slope     303 non-null    int64  \n",
      " 11  ca        303 non-null    int64  \n",
      " 12  thal      303 non-null    int64  \n",
      " 13  target    303 non-null    int64  \n",
      "dtypes: float64(1), int64(13)\n",
      "memory usage: 33.3 KB\n"
     ]
    }
   ],
   "source": [
    "# Load the data \n",
    "data = pd.read_csv(\"heart.csv\")\n",
    "data.info()"
   ]
  },
  {
   "cell_type": "markdown",
   "metadata": {},
   "source": [
    "From the loaded data we can see that there are 303 observations with 14 features. There are no null values as shown in the non-null count. This means we don't need to deal with non-null values in this dataset. "
   ]
  },
  {
   "cell_type": "code",
   "execution_count": 3,
   "metadata": {},
   "outputs": [
    {
     "data": {
      "text/html": [
       "<div>\n",
       "<style scoped>\n",
       "    .dataframe tbody tr th:only-of-type {\n",
       "        vertical-align: middle;\n",
       "    }\n",
       "\n",
       "    .dataframe tbody tr th {\n",
       "        vertical-align: top;\n",
       "    }\n",
       "\n",
       "    .dataframe thead th {\n",
       "        text-align: right;\n",
       "    }\n",
       "</style>\n",
       "<table border=\"1\" class=\"dataframe\">\n",
       "  <thead>\n",
       "    <tr style=\"text-align: right;\">\n",
       "      <th></th>\n",
       "      <th>age</th>\n",
       "      <th>sex</th>\n",
       "      <th>cp</th>\n",
       "      <th>trestbps</th>\n",
       "      <th>chol</th>\n",
       "      <th>fbs</th>\n",
       "      <th>restecg</th>\n",
       "      <th>thalach</th>\n",
       "      <th>exang</th>\n",
       "      <th>oldpeak</th>\n",
       "      <th>slope</th>\n",
       "      <th>ca</th>\n",
       "      <th>thal</th>\n",
       "      <th>target</th>\n",
       "    </tr>\n",
       "  </thead>\n",
       "  <tbody>\n",
       "    <tr>\n",
       "      <th>0</th>\n",
       "      <td>63</td>\n",
       "      <td>1</td>\n",
       "      <td>3</td>\n",
       "      <td>145</td>\n",
       "      <td>233</td>\n",
       "      <td>1</td>\n",
       "      <td>0</td>\n",
       "      <td>150</td>\n",
       "      <td>0</td>\n",
       "      <td>2.3</td>\n",
       "      <td>0</td>\n",
       "      <td>0</td>\n",
       "      <td>1</td>\n",
       "      <td>1</td>\n",
       "    </tr>\n",
       "    <tr>\n",
       "      <th>1</th>\n",
       "      <td>37</td>\n",
       "      <td>1</td>\n",
       "      <td>2</td>\n",
       "      <td>130</td>\n",
       "      <td>250</td>\n",
       "      <td>0</td>\n",
       "      <td>1</td>\n",
       "      <td>187</td>\n",
       "      <td>0</td>\n",
       "      <td>3.5</td>\n",
       "      <td>0</td>\n",
       "      <td>0</td>\n",
       "      <td>2</td>\n",
       "      <td>1</td>\n",
       "    </tr>\n",
       "    <tr>\n",
       "      <th>2</th>\n",
       "      <td>41</td>\n",
       "      <td>0</td>\n",
       "      <td>1</td>\n",
       "      <td>130</td>\n",
       "      <td>204</td>\n",
       "      <td>0</td>\n",
       "      <td>0</td>\n",
       "      <td>172</td>\n",
       "      <td>0</td>\n",
       "      <td>1.4</td>\n",
       "      <td>2</td>\n",
       "      <td>0</td>\n",
       "      <td>2</td>\n",
       "      <td>1</td>\n",
       "    </tr>\n",
       "    <tr>\n",
       "      <th>3</th>\n",
       "      <td>56</td>\n",
       "      <td>1</td>\n",
       "      <td>1</td>\n",
       "      <td>120</td>\n",
       "      <td>236</td>\n",
       "      <td>0</td>\n",
       "      <td>1</td>\n",
       "      <td>178</td>\n",
       "      <td>0</td>\n",
       "      <td>0.8</td>\n",
       "      <td>2</td>\n",
       "      <td>0</td>\n",
       "      <td>2</td>\n",
       "      <td>1</td>\n",
       "    </tr>\n",
       "    <tr>\n",
       "      <th>4</th>\n",
       "      <td>57</td>\n",
       "      <td>0</td>\n",
       "      <td>0</td>\n",
       "      <td>120</td>\n",
       "      <td>354</td>\n",
       "      <td>0</td>\n",
       "      <td>1</td>\n",
       "      <td>163</td>\n",
       "      <td>1</td>\n",
       "      <td>0.6</td>\n",
       "      <td>2</td>\n",
       "      <td>0</td>\n",
       "      <td>2</td>\n",
       "      <td>1</td>\n",
       "    </tr>\n",
       "  </tbody>\n",
       "</table>\n",
       "</div>"
      ],
      "text/plain": [
       "   age  sex  cp  trestbps  chol  fbs  restecg  thalach  exang  oldpeak  slope  \\\n",
       "0   63    1   3       145   233    1        0      150      0      2.3      0   \n",
       "1   37    1   2       130   250    0        1      187      0      3.5      0   \n",
       "2   41    0   1       130   204    0        0      172      0      1.4      2   \n",
       "3   56    1   1       120   236    0        1      178      0      0.8      2   \n",
       "4   57    0   0       120   354    0        1      163      1      0.6      2   \n",
       "\n",
       "   ca  thal  target  \n",
       "0   0     1       1  \n",
       "1   0     2       1  \n",
       "2   0     2       1  \n",
       "3   0     2       1  \n",
       "4   0     2       1  "
      ]
     },
     "execution_count": 3,
     "metadata": {},
     "output_type": "execute_result"
    }
   ],
   "source": [
    "data.head()"
   ]
  },
  {
   "cell_type": "code",
   "execution_count": 4,
   "metadata": {},
   "outputs": [
    {
     "data": {
      "text/plain": [
       "(302, 14)"
      ]
     },
     "execution_count": 4,
     "metadata": {},
     "output_type": "execute_result"
    }
   ],
   "source": [
    "data = data.drop_duplicates()\n",
    "data.shape"
   ]
  },
  {
   "cell_type": "code",
   "execution_count": 5,
   "metadata": {
    "scrolled": true
   },
   "outputs": [
    {
     "data": {
      "text/html": [
       "<div>\n",
       "<style scoped>\n",
       "    .dataframe tbody tr th:only-of-type {\n",
       "        vertical-align: middle;\n",
       "    }\n",
       "\n",
       "    .dataframe tbody tr th {\n",
       "        vertical-align: top;\n",
       "    }\n",
       "\n",
       "    .dataframe thead th {\n",
       "        text-align: right;\n",
       "    }\n",
       "</style>\n",
       "<table border=\"1\" class=\"dataframe\">\n",
       "  <thead>\n",
       "    <tr style=\"text-align: right;\">\n",
       "      <th></th>\n",
       "      <th>age</th>\n",
       "      <th>sex</th>\n",
       "      <th>cp</th>\n",
       "      <th>trestbps</th>\n",
       "      <th>chol</th>\n",
       "      <th>fbs</th>\n",
       "      <th>restecg</th>\n",
       "      <th>thalach</th>\n",
       "      <th>exang</th>\n",
       "      <th>oldpeak</th>\n",
       "      <th>slope</th>\n",
       "      <th>ca</th>\n",
       "      <th>thal</th>\n",
       "      <th>target</th>\n",
       "    </tr>\n",
       "  </thead>\n",
       "  <tbody>\n",
       "    <tr>\n",
       "      <th>count</th>\n",
       "      <td>302.00000</td>\n",
       "      <td>302.000000</td>\n",
       "      <td>302.000000</td>\n",
       "      <td>302.000000</td>\n",
       "      <td>302.000000</td>\n",
       "      <td>302.000000</td>\n",
       "      <td>302.000000</td>\n",
       "      <td>302.000000</td>\n",
       "      <td>302.000000</td>\n",
       "      <td>302.000000</td>\n",
       "      <td>302.000000</td>\n",
       "      <td>302.000000</td>\n",
       "      <td>302.000000</td>\n",
       "      <td>302.000000</td>\n",
       "    </tr>\n",
       "    <tr>\n",
       "      <th>mean</th>\n",
       "      <td>54.42053</td>\n",
       "      <td>0.682119</td>\n",
       "      <td>0.963576</td>\n",
       "      <td>131.602649</td>\n",
       "      <td>246.500000</td>\n",
       "      <td>0.149007</td>\n",
       "      <td>0.526490</td>\n",
       "      <td>149.569536</td>\n",
       "      <td>0.327815</td>\n",
       "      <td>1.043046</td>\n",
       "      <td>1.397351</td>\n",
       "      <td>0.718543</td>\n",
       "      <td>2.314570</td>\n",
       "      <td>0.543046</td>\n",
       "    </tr>\n",
       "    <tr>\n",
       "      <th>std</th>\n",
       "      <td>9.04797</td>\n",
       "      <td>0.466426</td>\n",
       "      <td>1.032044</td>\n",
       "      <td>17.563394</td>\n",
       "      <td>51.753489</td>\n",
       "      <td>0.356686</td>\n",
       "      <td>0.526027</td>\n",
       "      <td>22.903527</td>\n",
       "      <td>0.470196</td>\n",
       "      <td>1.161452</td>\n",
       "      <td>0.616274</td>\n",
       "      <td>1.006748</td>\n",
       "      <td>0.613026</td>\n",
       "      <td>0.498970</td>\n",
       "    </tr>\n",
       "    <tr>\n",
       "      <th>min</th>\n",
       "      <td>29.00000</td>\n",
       "      <td>0.000000</td>\n",
       "      <td>0.000000</td>\n",
       "      <td>94.000000</td>\n",
       "      <td>126.000000</td>\n",
       "      <td>0.000000</td>\n",
       "      <td>0.000000</td>\n",
       "      <td>71.000000</td>\n",
       "      <td>0.000000</td>\n",
       "      <td>0.000000</td>\n",
       "      <td>0.000000</td>\n",
       "      <td>0.000000</td>\n",
       "      <td>0.000000</td>\n",
       "      <td>0.000000</td>\n",
       "    </tr>\n",
       "    <tr>\n",
       "      <th>25%</th>\n",
       "      <td>48.00000</td>\n",
       "      <td>0.000000</td>\n",
       "      <td>0.000000</td>\n",
       "      <td>120.000000</td>\n",
       "      <td>211.000000</td>\n",
       "      <td>0.000000</td>\n",
       "      <td>0.000000</td>\n",
       "      <td>133.250000</td>\n",
       "      <td>0.000000</td>\n",
       "      <td>0.000000</td>\n",
       "      <td>1.000000</td>\n",
       "      <td>0.000000</td>\n",
       "      <td>2.000000</td>\n",
       "      <td>0.000000</td>\n",
       "    </tr>\n",
       "    <tr>\n",
       "      <th>50%</th>\n",
       "      <td>55.50000</td>\n",
       "      <td>1.000000</td>\n",
       "      <td>1.000000</td>\n",
       "      <td>130.000000</td>\n",
       "      <td>240.500000</td>\n",
       "      <td>0.000000</td>\n",
       "      <td>1.000000</td>\n",
       "      <td>152.500000</td>\n",
       "      <td>0.000000</td>\n",
       "      <td>0.800000</td>\n",
       "      <td>1.000000</td>\n",
       "      <td>0.000000</td>\n",
       "      <td>2.000000</td>\n",
       "      <td>1.000000</td>\n",
       "    </tr>\n",
       "    <tr>\n",
       "      <th>75%</th>\n",
       "      <td>61.00000</td>\n",
       "      <td>1.000000</td>\n",
       "      <td>2.000000</td>\n",
       "      <td>140.000000</td>\n",
       "      <td>274.750000</td>\n",
       "      <td>0.000000</td>\n",
       "      <td>1.000000</td>\n",
       "      <td>166.000000</td>\n",
       "      <td>1.000000</td>\n",
       "      <td>1.600000</td>\n",
       "      <td>2.000000</td>\n",
       "      <td>1.000000</td>\n",
       "      <td>3.000000</td>\n",
       "      <td>1.000000</td>\n",
       "    </tr>\n",
       "    <tr>\n",
       "      <th>max</th>\n",
       "      <td>77.00000</td>\n",
       "      <td>1.000000</td>\n",
       "      <td>3.000000</td>\n",
       "      <td>200.000000</td>\n",
       "      <td>564.000000</td>\n",
       "      <td>1.000000</td>\n",
       "      <td>2.000000</td>\n",
       "      <td>202.000000</td>\n",
       "      <td>1.000000</td>\n",
       "      <td>6.200000</td>\n",
       "      <td>2.000000</td>\n",
       "      <td>4.000000</td>\n",
       "      <td>3.000000</td>\n",
       "      <td>1.000000</td>\n",
       "    </tr>\n",
       "  </tbody>\n",
       "</table>\n",
       "</div>"
      ],
      "text/plain": [
       "             age         sex          cp    trestbps        chol         fbs  \\\n",
       "count  302.00000  302.000000  302.000000  302.000000  302.000000  302.000000   \n",
       "mean    54.42053    0.682119    0.963576  131.602649  246.500000    0.149007   \n",
       "std      9.04797    0.466426    1.032044   17.563394   51.753489    0.356686   \n",
       "min     29.00000    0.000000    0.000000   94.000000  126.000000    0.000000   \n",
       "25%     48.00000    0.000000    0.000000  120.000000  211.000000    0.000000   \n",
       "50%     55.50000    1.000000    1.000000  130.000000  240.500000    0.000000   \n",
       "75%     61.00000    1.000000    2.000000  140.000000  274.750000    0.000000   \n",
       "max     77.00000    1.000000    3.000000  200.000000  564.000000    1.000000   \n",
       "\n",
       "          restecg     thalach       exang     oldpeak       slope          ca  \\\n",
       "count  302.000000  302.000000  302.000000  302.000000  302.000000  302.000000   \n",
       "mean     0.526490  149.569536    0.327815    1.043046    1.397351    0.718543   \n",
       "std      0.526027   22.903527    0.470196    1.161452    0.616274    1.006748   \n",
       "min      0.000000   71.000000    0.000000    0.000000    0.000000    0.000000   \n",
       "25%      0.000000  133.250000    0.000000    0.000000    1.000000    0.000000   \n",
       "50%      1.000000  152.500000    0.000000    0.800000    1.000000    0.000000   \n",
       "75%      1.000000  166.000000    1.000000    1.600000    2.000000    1.000000   \n",
       "max      2.000000  202.000000    1.000000    6.200000    2.000000    4.000000   \n",
       "\n",
       "             thal      target  \n",
       "count  302.000000  302.000000  \n",
       "mean     2.314570    0.543046  \n",
       "std      0.613026    0.498970  \n",
       "min      0.000000    0.000000  \n",
       "25%      2.000000    0.000000  \n",
       "50%      2.000000    1.000000  \n",
       "75%      3.000000    1.000000  \n",
       "max      3.000000    1.000000  "
      ]
     },
     "execution_count": 5,
     "metadata": {},
     "output_type": "execute_result"
    }
   ],
   "source": [
    "# Get summary statistics \n",
    "data.describe()"
   ]
  },
  {
   "cell_type": "code",
   "execution_count": 6,
   "metadata": {},
   "outputs": [
    {
     "name": "stdout",
     "output_type": "stream",
     "text": [
      "Total count of each type of patient\n",
      "1    164\n",
      "0    138\n",
      "Name: target, dtype: int64\n"
     ]
    }
   ],
   "source": [
    "target = data.target.apply(lambda x: \"Healthy \" if x==0 else \"Heart Disease\")\n",
    "\n",
    "print(\"Total count of each type of patient\")\n",
    "print(data.target.value_counts())"
   ]
  },
  {
   "cell_type": "code",
   "execution_count": 7,
   "metadata": {},
   "outputs": [
    {
     "data": {
      "image/png": "[encoded data removed]",
      "text/plain": [
       "<Figure size 432x288 with 1 Axes>"
      ]
     },
     "metadata": {},
     "output_type": "display_data"
    }
   ],
   "source": [
    "# Plot the Frequency\n",
    "sns.countplot(target);\n",
    "\n",
    "plt.xlabel('Patient Status')\n",
    "plt.ylabel('Frequency')\n",
    "plt.title('Frequency of Dieseased and Healthy Patients');"
   ]
  },
  {
   "cell_type": "code",
   "execution_count": 8,
   "metadata": {},
   "outputs": [
    {
     "name": "stdout",
     "output_type": "stream",
     "text": [
      "Percentage of healthy patients: 45.70%\n",
      "Percentage of patients with heart disease: 54.30%\n"
     ]
    }
   ],
   "source": [
    "no_disease = len(data[data.target == 0])\n",
    "disease = len(data[data.target == 1])\n",
    "total = len(data)\n",
    "\n",
    "print(\"Percentage of healthy patients: {:.2f}%\".format(no_disease*100/total))\n",
    "print(\"Percentage of patients with heart disease: {:.2f}%\".format(disease*100/total))"
   ]
  },
  {
   "cell_type": "code",
   "execution_count": 9,
   "metadata": {},
   "outputs": [
    {
     "data": {
      "image/png": "[encoded data removed]",
      "text/plain": [
       "<Figure size 432x288 with 1 Axes>"
      ]
     },
     "metadata": {},
     "output_type": "display_data"
    }
   ],
   "source": [
    "# See distribution of each column\n",
    "plt.hist(x=data.age)\n",
    "plt.title(\"Distribution of Ages\")\n",
    "plt.xlabel(\"Age\")\n",
    "plt.ylabel(\"Count\");"
   ]
  },
  {
   "cell_type": "markdown",
   "metadata": {},
   "source": [
    "From the histogram, we can see that most of the patients in the dataset are between the ages of 55 and 60. The histogram also shows that the patient's age is approximately normally distributed."
   ]
  },
  {
   "cell_type": "code",
   "execution_count": 10,
   "metadata": {},
   "outputs": [
    {
     "data": {
      "image/png": "[encoded data removed]",
      "text/plain": [
       "<Figure size 432x288 with 1 Axes>"
      ]
     },
     "metadata": {},
     "output_type": "display_data"
    }
   ],
   "source": [
    "# Seperate the heart diseased age column\n",
    "x1 = data.age[data.target == 1]\n",
    "\n",
    "# Seperate the healthy age column\n",
    "x2 = data.age[data.target == 0]\n",
    "\n",
    "names = [\"Heart Disease\", \"Healthy\"]\n",
    "plt.hist([x1, x2], bins = int(303/30), label=names)\n",
    "\n",
    "# Plot formatting\n",
    "plt.legend()\n",
    "plt.xlabel('Age')\n",
    "plt.ylabel('Count')\n",
    "plt.title('Distribution of Age with Respect to Heart Disease');"
   ]
  },
  {
   "cell_type": "markdown",
   "metadata": {},
   "source": [
    "From the distribution we can see that heart disease seems to affect the age group of 50 to 60 the most. There is a sharp "
   ]
  },
  {
   "cell_type": "code",
   "execution_count": 11,
   "metadata": {},
   "outputs": [
    {
     "data": {
      "image/png": "[encoded data removed]",
      "text/plain": [
       "<Figure size 576x216 with 2 Axes>"
      ]
     },
     "metadata": {},
     "output_type": "display_data"
    }
   ],
   "source": [
    "sexes = data.sex.apply(lambda x: \"Male \" if x==0 else \"Female\") \n",
    "target = data.target.apply(lambda x: \"Healthy \" if x==0 else \"Heart Disease\")\n",
    "\n",
    "# Explore the distribution of sexes\n",
    "fig, axs = plt.subplots(ncols=2)\n",
    "fig.set_figheight(3)\n",
    "fig.set_figwidth(8)\n",
    "\n",
    "# Pl\n",
    "sns.countplot(sexes, ax=axs[0])\n",
    "axs[0].set_xlabel(\"Sex\")\n",
    "axs[0].set_ylabel(\"Count\")\n",
    "axs[0].set_title(\"Frequency of Sexes\");\n",
    "\n",
    "sns.countplot(sexes, hue=target, ax=axs[1])\n",
    "axs[1].set_xlabel(\"Sex\")\n",
    "axs[1].set_title(\"Frequency of Sexes with Respect to Heart Disease\");\n"
   ]
  },
  {
   "cell_type": "markdown",
   "metadata": {},
   "source": [
    "More female patients were collected and there are more healthy females compared to females with heart disease. Males in the data are primarily have heart disease. There is a possibility the model might be biased towards to males being more likely to have heart disease."
   ]
  },
  {
   "cell_type": "code",
   "execution_count": 12,
   "metadata": {},
   "outputs": [
    {
     "data": {
      "image/png": "[encoded data removed]",
      "text/plain": [
       "<Figure size 459.5x360 with 1 Axes>"
      ]
     },
     "metadata": {},
     "output_type": "display_data"
    }
   ],
   "source": [
    "Status = data.target.apply(lambda x: \"Healthy \" if x==0 else \"Heart Disease\")\n",
    "Status=Status.rename(\"Status\")\n",
    "sns.relplot(x=\"age\", y=\"thalach\",hue=Status,data=data,legend=\"full\");"
   ]
  },
  {
   "cell_type": "markdown",
   "metadata": {},
   "source": [
    "Another interesting observation is that maximum heart rate decreases as the patient is older. Although maximum heart rate is on average higher for patients with heart disease compared to patients without heart disease."
   ]
  },
  {
   "cell_type": "code",
   "execution_count": 13,
   "metadata": {},
   "outputs": [
    {
     "data": {
      "image/png": "[encoded data removed]",
      "text/plain": [
       "<Figure size 432x288 with 1 Axes>"
      ]
     },
     "metadata": {},
     "output_type": "display_data"
    }
   ],
   "source": [
    "plt.hist(x=data.oldpeak)\n",
    "plt.title(\"Distribution of Oldpeak\")\n",
    "plt.xlabel(\"Oldpeak\")\n",
    "plt.ylabel(\"Count\");"
   ]
  },
  {
   "cell_type": "markdown",
   "metadata": {},
   "source": [
    "Seems like Oldpeak is not distributed normally which might cause problems with regression classifiers. Maybe the use of Box-Cox transformation can help."
   ]
  },
  {
   "cell_type": "code",
   "execution_count": 14,
   "metadata": {},
   "outputs": [
    {
     "data": {
      "image/png": "[encoded data removed]",
      "text/plain": [
       "<Figure size 432x288 with 1 Axes>"
      ]
     },
     "metadata": {},
     "output_type": "display_data"
    }
   ],
   "source": [
    "target = data.target.apply(lambda x: \"Healthy\" if x==0 else \"Heart Disease\")\n",
    "exang = data.exang.apply(lambda x: \"Induced Angina\" if x==1 else \"No Effect\")\n",
    "\n",
    "sns.countplot(exang,hue=target)\n",
    "plt.title(\"Distribution of Exang\")\n",
    "plt.xlabel(\"Exang\")\n",
    "plt.ylabel(\"Count\")\n",
    "plt.legend(title=\"Status\");"
   ]
  },
  {
   "cell_type": "markdown",
   "metadata": {},
   "source": [
    "Patients that were subject to an induced angina from the stress exercis tended to be healthy and less likely to have heart disease."
   ]
  },
  {
   "cell_type": "markdown",
   "metadata": {},
   "source": [
    "## Feature Engineering\n",
    "\n",
    "#### Indicator Values"
   ]
  },
  {
   "cell_type": "code",
   "execution_count": 15,
   "metadata": {},
   "outputs": [
    {
     "name": "stdout",
     "output_type": "stream",
     "text": [
      "---------age---------\n",
      "[63 37 41 56 57 44 52 54 48 49 64 58 50 66 43 69 59 42 61 40 71 51 65 53\n",
      " 46 45 39 47 62 34 35 29 55 60 67 68 74 76 70 38 77]\n",
      "---------sex---------\n",
      "[1 0]\n",
      "---------cp---------\n",
      "[3 2 1 0]\n",
      "---------trestbps---------\n",
      "[145 130 120 140 172 150 110 135 160 105 125 142 155 104 138 128 108 134\n",
      " 122 115 118 100 124  94 112 102 152 101 132 148 178 129 180 136 126 106\n",
      " 156 170 146 117 200 165 174 192 144 123 154 114 164]\n",
      "---------chol---------\n",
      "[233 250 204 236 354 192 294 263 199 168 239 275 266 211 283 219 340 226\n",
      " 247 234 243 302 212 175 417 197 198 177 273 213 304 232 269 360 308 245\n",
      " 208 264 321 325 235 257 216 256 231 141 252 201 222 260 182 303 265 309\n",
      " 186 203 183 220 209 258 227 261 221 205 240 318 298 564 277 214 248 255\n",
      " 207 223 288 160 394 315 246 244 270 195 196 254 126 313 262 215 193 271\n",
      " 268 267 210 295 306 178 242 180 228 149 278 253 342 157 286 229 284 224\n",
      " 206 167 230 335 276 353 225 330 290 172 305 188 282 185 326 274 164 307\n",
      " 249 341 407 217 174 281 289 322 299 300 293 184 409 259 200 327 237 218\n",
      " 319 166 311 169 187 176 241 131]\n",
      "---------fbs---------\n",
      "[1 0]\n",
      "---------restecg---------\n",
      "[0 1 2]\n",
      "---------thalach---------\n",
      "[150 187 172 178 163 148 153 173 162 174 160 139 171 144 158 114 151 161\n",
      " 179 137 157 123 152 168 140 188 125 170 165 142 180 143 182 156 115 149\n",
      " 146 175 186 185 159 130 190 132 147 154 202 166 164 184 122 169 138 111\n",
      " 145 194 131 133 155 167 192 121  96 126 105 181 116 108 129 120 112 128\n",
      " 109 113  99 177 141 136  97 127 103 124  88 195 106  95 117  71 118 134\n",
      "  90]\n",
      "---------exang---------\n",
      "[0 1]\n",
      "---------oldpeak---------\n",
      "[2.3 3.5 1.4 0.8 0.6 0.4 1.3 0.  0.5 1.6 1.2 0.2 1.8 1.  2.6 1.5 3.  2.4\n",
      " 0.1 1.9 4.2 1.1 2.  0.7 0.3 0.9 3.6 3.1 3.2 2.5 2.2 2.8 3.4 6.2 4.  5.6\n",
      " 2.9 2.1 3.8 4.4]\n",
      "---------slope---------\n",
      "[0 2 1]\n",
      "---------ca---------\n",
      "[0 2 1 3 4]\n",
      "---------thal---------\n",
      "[1 2 3 0]\n"
     ]
    }
   ],
   "source": [
    "for col in data.columns: \n",
    "    if(col != \"target\"):\n",
    "        print(\"---------{}---------\".format(col))\n",
    "        print(data[col].unique())"
   ]
  },
  {
   "cell_type": "markdown",
   "metadata": {},
   "source": [
    "From reading the description and investigating the unique values, we can conclude that thal, ca, slope, exang, restecg, fbs, cp and sex are indicator features. The features thal, slope, restecg, and cp need to be transformed into dummy variables. "
   ]
  },
  {
   "cell_type": "code",
   "execution_count": 16,
   "metadata": {},
   "outputs": [
    {
     "name": "stdout",
     "output_type": "stream",
     "text": [
      "Index(['cp_1', 'cp_2', 'cp_3'], dtype='object')\n",
      "Index(['restecg_1', 'restecg_2'], dtype='object')\n",
      "Index(['slope_1', 'slope_2'], dtype='object')\n",
      "Index(['ca_1', 'ca_2', 'ca_3', 'ca_4'], dtype='object')\n",
      "Index(['thal_1', 'thal_2', 'thal_3'], dtype='object')\n"
     ]
    }
   ],
   "source": [
    "# Get the dummies\n",
    "cp = pd.get_dummies(data.cp,prefix=\"cp\")\n",
    "restecg = pd.get_dummies(data.restecg,prefix=\"restecg\")\n",
    "slope = pd.get_dummies(data.slope,prefix=\"slope\")\n",
    "ca = pd.get_dummies(data.ca,prefix=\"ca\")\n",
    "thal = pd.get_dummies(data.thal,prefix=\"thal\")\n",
    "\n",
    "# Get all columns except the last one\n",
    "cp = cp.iloc[:,1:cp.shape[1]]\n",
    "restecg = restecg.iloc[:,1:restecg.shape[1]]\n",
    "slope = slope.iloc[:,1:slope.shape[1]]\n",
    "ca = ca.iloc[:,1:ca.shape[1]]\n",
    "thal = thal.iloc[:,1:thal.shape[1]]\n",
    "\n",
    "# Verify that the columns were made into dummy variables\n",
    "for dummy in cp,restecg,slope,ca,thal:\n",
    "    print(dummy.columns)"
   ]
  },
  {
   "cell_type": "code",
   "execution_count": 17,
   "metadata": {},
   "outputs": [
    {
     "name": "stdout",
     "output_type": "stream",
     "text": [
      "Shape before removal (302, 13)\n",
      "Shape after removal (302, 8)\n"
     ]
    }
   ],
   "source": [
    "# Seperate target value and features \n",
    "X = data.loc[:, data.columns != 'target']\n",
    "y = data.target\n",
    "\n",
    "print(\"Shape before removal {}\".format(X.shape))\n",
    "\n",
    "# Remove the categorical columns \n",
    "for cat in ['cp','restecg','slope','ca','thal']:\n",
    "    X = X.loc[:, X.columns != cat]\n",
    "\n",
    "# Verify 5 columns were removed\n",
    "print(\"Shape after removal {}\".format(X.shape))"
   ]
  },
  {
   "cell_type": "code",
   "execution_count": 18,
   "metadata": {},
   "outputs": [
    {
     "name": "stdout",
     "output_type": "stream",
     "text": [
      "<class 'pandas.core.frame.DataFrame'>\n",
      "Int64Index: 302 entries, 0 to 302\n",
      "Data columns (total 22 columns):\n",
      " #   Column     Non-Null Count  Dtype  \n",
      "---  ------     --------------  -----  \n",
      " 0   age        302 non-null    int64  \n",
      " 1   sex        302 non-null    int64  \n",
      " 2   trestbps   302 non-null    int64  \n",
      " 3   chol       302 non-null    int64  \n",
      " 4   fbs        302 non-null    int64  \n",
      " 5   thalach    302 non-null    int64  \n",
      " 6   exang      302 non-null    int64  \n",
      " 7   oldpeak    302 non-null    float64\n",
      " 8   cp_1       302 non-null    uint8  \n",
      " 9   cp_2       302 non-null    uint8  \n",
      " 10  cp_3       302 non-null    uint8  \n",
      " 11  restecg_1  302 non-null    uint8  \n",
      " 12  restecg_2  302 non-null    uint8  \n",
      " 13  slope_1    302 non-null    uint8  \n",
      " 14  slope_2    302 non-null    uint8  \n",
      " 15  ca_1       302 non-null    uint8  \n",
      " 16  ca_2       302 non-null    uint8  \n",
      " 17  ca_3       302 non-null    uint8  \n",
      " 18  ca_4       302 non-null    uint8  \n",
      " 19  thal_1     302 non-null    uint8  \n",
      " 20  thal_2     302 non-null    uint8  \n",
      " 21  thal_3     302 non-null    uint8  \n",
      "dtypes: float64(1), int64(7), uint8(14)\n",
      "memory usage: 35.4 KB\n"
     ]
    }
   ],
   "source": [
    "# Add the dummy variable columns \n",
    "X = pd.concat([X, cp,restecg,slope,ca,thal], axis=1)\n",
    "X.info()"
   ]
  },
  {
   "cell_type": "code",
   "execution_count": 19,
   "metadata": {},
   "outputs": [
    {
     "data": {
      "text/html": [
       "<div>\n",
       "<style scoped>\n",
       "    .dataframe tbody tr th:only-of-type {\n",
       "        vertical-align: middle;\n",
       "    }\n",
       "\n",
       "    .dataframe tbody tr th {\n",
       "        vertical-align: top;\n",
       "    }\n",
       "\n",
       "    .dataframe thead th {\n",
       "        text-align: right;\n",
       "    }\n",
       "</style>\n",
       "<table border=\"1\" class=\"dataframe\">\n",
       "  <thead>\n",
       "    <tr style=\"text-align: right;\">\n",
       "      <th></th>\n",
       "      <th>age</th>\n",
       "      <th>sex</th>\n",
       "      <th>trestbps</th>\n",
       "      <th>chol</th>\n",
       "      <th>fbs</th>\n",
       "      <th>thalach</th>\n",
       "      <th>exang</th>\n",
       "      <th>oldpeak</th>\n",
       "      <th>cp_1</th>\n",
       "      <th>cp_2</th>\n",
       "      <th>...</th>\n",
       "      <th>restecg_2</th>\n",
       "      <th>slope_1</th>\n",
       "      <th>slope_2</th>\n",
       "      <th>ca_1</th>\n",
       "      <th>ca_2</th>\n",
       "      <th>ca_3</th>\n",
       "      <th>ca_4</th>\n",
       "      <th>thal_1</th>\n",
       "      <th>thal_2</th>\n",
       "      <th>thal_3</th>\n",
       "    </tr>\n",
       "  </thead>\n",
       "  <tbody>\n",
       "    <tr>\n",
       "      <th>count</th>\n",
       "      <td>3.020000e+02</td>\n",
       "      <td>302.000000</td>\n",
       "      <td>3.020000e+02</td>\n",
       "      <td>3.020000e+02</td>\n",
       "      <td>302.000000</td>\n",
       "      <td>3.020000e+02</td>\n",
       "      <td>302.000000</td>\n",
       "      <td>3.020000e+02</td>\n",
       "      <td>302.000000</td>\n",
       "      <td>302.000000</td>\n",
       "      <td>...</td>\n",
       "      <td>302.000000</td>\n",
       "      <td>302.000000</td>\n",
       "      <td>302.000000</td>\n",
       "      <td>302.000000</td>\n",
       "      <td>302.000000</td>\n",
       "      <td>302.000000</td>\n",
       "      <td>302.000000</td>\n",
       "      <td>302.000000</td>\n",
       "      <td>302.000000</td>\n",
       "      <td>302.000000</td>\n",
       "    </tr>\n",
       "    <tr>\n",
       "      <th>mean</th>\n",
       "      <td>-2.724090e-16</td>\n",
       "      <td>0.682119</td>\n",
       "      <td>-8.053712e-16</td>\n",
       "      <td>-2.086263e-17</td>\n",
       "      <td>0.149007</td>\n",
       "      <td>-4.087974e-16</td>\n",
       "      <td>0.327815</td>\n",
       "      <td>-1.948405e-16</td>\n",
       "      <td>0.165563</td>\n",
       "      <td>0.284768</td>\n",
       "      <td>...</td>\n",
       "      <td>0.013245</td>\n",
       "      <td>0.463576</td>\n",
       "      <td>0.466887</td>\n",
       "      <td>0.215232</td>\n",
       "      <td>0.125828</td>\n",
       "      <td>0.066225</td>\n",
       "      <td>0.013245</td>\n",
       "      <td>0.059603</td>\n",
       "      <td>0.546358</td>\n",
       "      <td>0.387417</td>\n",
       "    </tr>\n",
       "    <tr>\n",
       "      <th>std</th>\n",
       "      <td>1.001660e+00</td>\n",
       "      <td>0.466426</td>\n",
       "      <td>1.001660e+00</td>\n",
       "      <td>1.001660e+00</td>\n",
       "      <td>0.356686</td>\n",
       "      <td>1.001660e+00</td>\n",
       "      <td>0.470196</td>\n",
       "      <td>1.001660e+00</td>\n",
       "      <td>0.372305</td>\n",
       "      <td>0.452053</td>\n",
       "      <td>...</td>\n",
       "      <td>0.114512</td>\n",
       "      <td>0.499499</td>\n",
       "      <td>0.499730</td>\n",
       "      <td>0.411665</td>\n",
       "      <td>0.332206</td>\n",
       "      <td>0.249088</td>\n",
       "      <td>0.114512</td>\n",
       "      <td>0.237142</td>\n",
       "      <td>0.498673</td>\n",
       "      <td>0.487969</td>\n",
       "    </tr>\n",
       "    <tr>\n",
       "      <th>min</th>\n",
       "      <td>-2.814192e+00</td>\n",
       "      <td>0.000000</td>\n",
       "      <td>-2.144521e+00</td>\n",
       "      <td>-2.332210e+00</td>\n",
       "      <td>0.000000</td>\n",
       "      <td>-3.436149e+00</td>\n",
       "      <td>0.000000</td>\n",
       "      <td>-8.995441e-01</td>\n",
       "      <td>0.000000</td>\n",
       "      <td>0.000000</td>\n",
       "      <td>...</td>\n",
       "      <td>0.000000</td>\n",
       "      <td>0.000000</td>\n",
       "      <td>0.000000</td>\n",
       "      <td>0.000000</td>\n",
       "      <td>0.000000</td>\n",
       "      <td>0.000000</td>\n",
       "      <td>0.000000</td>\n",
       "      <td>0.000000</td>\n",
       "      <td>0.000000</td>\n",
       "      <td>0.000000</td>\n",
       "    </tr>\n",
       "    <tr>\n",
       "      <th>25%</th>\n",
       "      <td>-7.107878e-01</td>\n",
       "      <td>0.000000</td>\n",
       "      <td>-6.617119e-01</td>\n",
       "      <td>-6.870826e-01</td>\n",
       "      <td>0.000000</td>\n",
       "      <td>-7.137164e-01</td>\n",
       "      <td>0.000000</td>\n",
       "      <td>-8.995441e-01</td>\n",
       "      <td>0.000000</td>\n",
       "      <td>0.000000</td>\n",
       "      <td>...</td>\n",
       "      <td>0.000000</td>\n",
       "      <td>0.000000</td>\n",
       "      <td>0.000000</td>\n",
       "      <td>0.000000</td>\n",
       "      <td>0.000000</td>\n",
       "      <td>0.000000</td>\n",
       "      <td>0.000000</td>\n",
       "      <td>0.000000</td>\n",
       "      <td>0.000000</td>\n",
       "      <td>0.000000</td>\n",
       "    </tr>\n",
       "    <tr>\n",
       "      <th>50%</th>\n",
       "      <td>1.195033e-01</td>\n",
       "      <td>1.000000</td>\n",
       "      <td>-9.140084e-02</td>\n",
       "      <td>-1.161266e-01</td>\n",
       "      <td>0.000000</td>\n",
       "      <td>1.281605e-01</td>\n",
       "      <td>0.000000</td>\n",
       "      <td>-2.096081e-01</td>\n",
       "      <td>0.000000</td>\n",
       "      <td>0.000000</td>\n",
       "      <td>...</td>\n",
       "      <td>0.000000</td>\n",
       "      <td>0.000000</td>\n",
       "      <td>0.000000</td>\n",
       "      <td>0.000000</td>\n",
       "      <td>0.000000</td>\n",
       "      <td>0.000000</td>\n",
       "      <td>0.000000</td>\n",
       "      <td>0.000000</td>\n",
       "      <td>1.000000</td>\n",
       "      <td>0.000000</td>\n",
       "    </tr>\n",
       "    <tr>\n",
       "      <th>75%</th>\n",
       "      <td>7.283833e-01</td>\n",
       "      <td>1.000000</td>\n",
       "      <td>4.789102e-01</td>\n",
       "      <td>5.467629e-01</td>\n",
       "      <td>0.000000</td>\n",
       "      <td>7.185677e-01</td>\n",
       "      <td>1.000000</td>\n",
       "      <td>4.803280e-01</td>\n",
       "      <td>0.000000</td>\n",
       "      <td>1.000000</td>\n",
       "      <td>...</td>\n",
       "      <td>0.000000</td>\n",
       "      <td>1.000000</td>\n",
       "      <td>1.000000</td>\n",
       "      <td>0.000000</td>\n",
       "      <td>0.000000</td>\n",
       "      <td>0.000000</td>\n",
       "      <td>0.000000</td>\n",
       "      <td>0.000000</td>\n",
       "      <td>1.000000</td>\n",
       "      <td>1.000000</td>\n",
       "    </tr>\n",
       "    <tr>\n",
       "      <th>max</th>\n",
       "      <td>2.499671e+00</td>\n",
       "      <td>1.000000</td>\n",
       "      <td>3.900776e+00</td>\n",
       "      <td>6.145034e+00</td>\n",
       "      <td>1.000000</td>\n",
       "      <td>2.292987e+00</td>\n",
       "      <td>1.000000</td>\n",
       "      <td>4.447460e+00</td>\n",
       "      <td>1.000000</td>\n",
       "      <td>1.000000</td>\n",
       "      <td>...</td>\n",
       "      <td>1.000000</td>\n",
       "      <td>1.000000</td>\n",
       "      <td>1.000000</td>\n",
       "      <td>1.000000</td>\n",
       "      <td>1.000000</td>\n",
       "      <td>1.000000</td>\n",
       "      <td>1.000000</td>\n",
       "      <td>1.000000</td>\n",
       "      <td>1.000000</td>\n",
       "      <td>1.000000</td>\n",
       "    </tr>\n",
       "  </tbody>\n",
       "</table>\n",
       "<p>8 rows × 22 columns</p>\n",
       "</div>"
      ],
      "text/plain": [
       "                age         sex      trestbps          chol         fbs  \\\n",
       "count  3.020000e+02  302.000000  3.020000e+02  3.020000e+02  302.000000   \n",
       "mean  -2.724090e-16    0.682119 -8.053712e-16 -2.086263e-17    0.149007   \n",
       "std    1.001660e+00    0.466426  1.001660e+00  1.001660e+00    0.356686   \n",
       "min   -2.814192e+00    0.000000 -2.144521e+00 -2.332210e+00    0.000000   \n",
       "25%   -7.107878e-01    0.000000 -6.617119e-01 -6.870826e-01    0.000000   \n",
       "50%    1.195033e-01    1.000000 -9.140084e-02 -1.161266e-01    0.000000   \n",
       "75%    7.283833e-01    1.000000  4.789102e-01  5.467629e-01    0.000000   \n",
       "max    2.499671e+00    1.000000  3.900776e+00  6.145034e+00    1.000000   \n",
       "\n",
       "            thalach       exang       oldpeak        cp_1        cp_2  ...  \\\n",
       "count  3.020000e+02  302.000000  3.020000e+02  302.000000  302.000000  ...   \n",
       "mean  -4.087974e-16    0.327815 -1.948405e-16    0.165563    0.284768  ...   \n",
       "std    1.001660e+00    0.470196  1.001660e+00    0.372305    0.452053  ...   \n",
       "min   -3.436149e+00    0.000000 -8.995441e-01    0.000000    0.000000  ...   \n",
       "25%   -7.137164e-01    0.000000 -8.995441e-01    0.000000    0.000000  ...   \n",
       "50%    1.281605e-01    0.000000 -2.096081e-01    0.000000    0.000000  ...   \n",
       "75%    7.185677e-01    1.000000  4.803280e-01    0.000000    1.000000  ...   \n",
       "max    2.292987e+00    1.000000  4.447460e+00    1.000000    1.000000  ...   \n",
       "\n",
       "        restecg_2     slope_1     slope_2        ca_1        ca_2        ca_3  \\\n",
       "count  302.000000  302.000000  302.000000  302.000000  302.000000  302.000000   \n",
       "mean     0.013245    0.463576    0.466887    0.215232    0.125828    0.066225   \n",
       "std      0.114512    0.499499    0.499730    0.411665    0.332206    0.249088   \n",
       "min      0.000000    0.000000    0.000000    0.000000    0.000000    0.000000   \n",
       "25%      0.000000    0.000000    0.000000    0.000000    0.000000    0.000000   \n",
       "50%      0.000000    0.000000    0.000000    0.000000    0.000000    0.000000   \n",
       "75%      0.000000    1.000000    1.000000    0.000000    0.000000    0.000000   \n",
       "max      1.000000    1.000000    1.000000    1.000000    1.000000    1.000000   \n",
       "\n",
       "             ca_4      thal_1      thal_2      thal_3  \n",
       "count  302.000000  302.000000  302.000000  302.000000  \n",
       "mean     0.013245    0.059603    0.546358    0.387417  \n",
       "std      0.114512    0.237142    0.498673    0.487969  \n",
       "min      0.000000    0.000000    0.000000    0.000000  \n",
       "25%      0.000000    0.000000    0.000000    0.000000  \n",
       "50%      0.000000    0.000000    1.000000    0.000000  \n",
       "75%      0.000000    0.000000    1.000000    1.000000  \n",
       "max      1.000000    1.000000    1.000000    1.000000  \n",
       "\n",
       "[8 rows x 22 columns]"
      ]
     },
     "execution_count": 19,
     "metadata": {},
     "output_type": "execute_result"
    }
   ],
   "source": [
    "# Scale the non-categorical variables\n",
    "scaled_features = data.copy()\n",
    "col_names = ['oldpeak', 'thalach', 'chol','trestbps','age']\n",
    "features = scaled_features[col_names]\n",
    "scaler = StandardScaler().fit(features.values)\n",
    "features = scaler.transform(features.values)\n",
    "\n",
    "X[col_names] = features\n",
    "X.describe()"
   ]
  },
  {
   "cell_type": "markdown",
   "metadata": {},
   "source": [
    "## Model Building"
   ]
  },
  {
   "cell_type": "code",
   "execution_count": 20,
   "metadata": {},
   "outputs": [
    {
     "name": "stdout",
     "output_type": "stream",
     "text": [
      "The size of the training set is 241 rows\n",
      "The size of the test set is 61 rows\n"
     ]
    }
   ],
   "source": [
    "# 80-20 split of train test data\n",
    "X_train, X_test, y_train, y_test = train_test_split(X,y, test_size=0.2)\n",
    "\n",
    "print(\"The size of the training set is {} rows\".format(X_train.shape[0]))\n",
    "print(\"The size of the test set is {} rows\".format(X_test.shape[0]))"
   ]
  },
  {
   "cell_type": "code",
   "execution_count": 21,
   "metadata": {},
   "outputs": [],
   "source": [
    "param_grid = {\n",
    "    'penalty':['l1', 'l2', 'elasticnet', 'none'],\n",
    "    'l1_ratio':np.linspace(0,1, num=10),\n",
    "    'random_state': [123]\n",
    "}\n",
    "# instantiate the grid\n",
    "grid = GridSearchCV(LogisticRegression(max_iter=1000), param_grid, cv=10, scoring='accuracy', return_train_score=True)\n",
    "logreg = grid.fit(X_train,y_train)"
   ]
  },
  {
   "cell_type": "code",
   "execution_count": 22,
   "metadata": {},
   "outputs": [
    {
     "data": {
      "text/plain": [
       "LogisticRegression(C=1.0, class_weight=None, dual=False, fit_intercept=True,\n",
       "                   intercept_scaling=1, l1_ratio=0.0, max_iter=1000,\n",
       "                   multi_class='auto', n_jobs=None, penalty='l2',\n",
       "                   random_state=123, solver='lbfgs', tol=0.0001, verbose=0,\n",
       "                   warm_start=False)"
      ]
     },
     "execution_count": 22,
     "metadata": {},
     "output_type": "execute_result"
    }
   ],
   "source": [
    "logreg.best_estimator_"
   ]
  },
  {
   "cell_type": "code",
   "execution_count": 23,
   "metadata": {},
   "outputs": [],
   "source": [
    "def plot_confusion_matrix(X_test,y_test, estimator,name=\"Estimator\"):\n",
    "    cm = confusion_matrix(y_test, estimator.predict(X_test))\n",
    "    sns.heatmap(cm,annot=True)\n",
    "    plt.ylabel('True label')\n",
    "    plt.xlabel('Predicted label')\n",
    "    plt.title(\"Confusion matrix of {}\".format(name))\n",
    "    plt.show()\n",
    "\n",
    "def plot_roc(X_test,y_test,estimator,name=\"Estimator\"):\n",
    "    probs = estimator.predict_proba(X_test)\n",
    "    preds = probs[:,1]\n",
    "    fpr, tpr, threshold = roc_curve(y_test, preds)\n",
    "    roc_auc = auc(fpr, tpr)\n",
    "    \n",
    "    plt.title('Receiver Operating Characteristic of {}'.format(name))\n",
    "    plt.plot(fpr, tpr, 'b', label = 'AUC = %0.2f' % roc_auc)\n",
    "    plt.legend(loc = 'lower right')\n",
    "    plt.plot([0, 1], [0, 1],'r--')\n",
    "    plt.xlim([0, 1])\n",
    "    plt.ylim([0, 1])\n",
    "    plt.ylabel('True Positive Rate')\n",
    "    plt.xlabel('False Positive Rate')\n",
    "    plt.show()\n",
    "    \n",
    "    \n",
    "def display_metrics(X_test,y_test, estimator,name=\"Estimator\"):\n",
    "    print(\"-------------------Metrics of {} estimator-------------------\\n\".format(name))\n",
    "    print(classification_report(y_test, estimator.predict(X_test)))\n",
    "    plot_confusion_matrix(X_test,y_test, estimator,name)\n",
    "    plot_roc(X_test,y_test,estimator,name)\n",
    "    \n"
   ]
  },
  {
   "cell_type": "code",
   "execution_count": 24,
   "metadata": {},
   "outputs": [
    {
     "name": "stdout",
     "output_type": "stream",
     "text": [
      "-------------------Metrics of Logistic Regression with L2 Norm estimator-------------------\n",
      "\n",
      "              precision    recall  f1-score   support\n",
      "\n",
      "           0       0.79      0.90      0.84        29\n",
      "           1       0.89      0.78      0.83        32\n",
      "\n",
      "    accuracy                           0.84        61\n",
      "   macro avg       0.84      0.84      0.84        61\n",
      "weighted avg       0.84      0.84      0.84        61\n",
      "\n"
     ]
    },
    {
     "data": {
      "image/png": "[encoded data removed]",
      "text/plain": [
       "<Figure size 432x288 with 2 Axes>"
      ]
     },
     "metadata": {},
     "output_type": "display_data"
    },
    {
     "data": {
      "image/png": "[encoded data removed]",
      "text/plain": [
       "<Figure size 432x288 with 1 Axes>"
      ]
     },
     "metadata": {},
     "output_type": "display_data"
    }
   ],
   "source": [
    "display_metrics(X_test,y_test, logreg.best_estimator_, \"Logistic Regression with L2 Norm\")"
   ]
  },
  {
   "cell_type": "code",
   "execution_count": 25,
   "metadata": {},
   "outputs": [],
   "source": [
    "param_grid = {\n",
    "    'C':np.append(np.linspace(0.1,1, num=10),[1]),\n",
    "    'kernel':['linear', 'poly', 'rbf', 'sigmoid'],\n",
    "    'gamma':['scale', 'auto'],\n",
    "    'probability':[True],\n",
    "    'random_state': [123]\n",
    "}\n",
    "# instantiate the grid\n",
    "grid = GridSearchCV(SVC(max_iter=1000), param_grid, cv=10, scoring='accuracy', return_train_score=True)\n",
    "SVC_est = grid.fit(X_train,y_train)"
   ]
  },
  {
   "cell_type": "code",
   "execution_count": 26,
   "metadata": {},
   "outputs": [
    {
     "data": {
      "text/plain": [
       "SVC(C=0.8, break_ties=False, cache_size=200, class_weight=None, coef0=0.0,\n",
       "    decision_function_shape='ovr', degree=3, gamma='scale', kernel='linear',\n",
       "    max_iter=1000, probability=True, random_state=123, shrinking=True,\n",
       "    tol=0.001, verbose=False)"
      ]
     },
     "execution_count": 26,
     "metadata": {},
     "output_type": "execute_result"
    }
   ],
   "source": [
    "SVC_est.best_estimator_"
   ]
  },
  {
   "cell_type": "code",
   "execution_count": 27,
   "metadata": {},
   "outputs": [
    {
     "name": "stdout",
     "output_type": "stream",
     "text": [
      "-------------------Metrics of SVC estimator-------------------\n",
      "\n",
      "              precision    recall  f1-score   support\n",
      "\n",
      "           0       0.80      0.83      0.81        29\n",
      "           1       0.84      0.81      0.83        32\n",
      "\n",
      "    accuracy                           0.82        61\n",
      "   macro avg       0.82      0.82      0.82        61\n",
      "weighted avg       0.82      0.82      0.82        61\n",
      "\n"
     ]
    },
    {
     "data": {
      "image/png": "[encoded data removed]",
      "text/plain": [
       "<Figure size 432x288 with 2 Axes>"
      ]
     },
     "metadata": {},
     "output_type": "display_data"
    },
    {
     "data": {
      "image/png": "[encoded data removed]",
      "text/plain": [
       "<Figure size 432x288 with 1 Axes>"
      ]
     },
     "metadata": {},
     "output_type": "display_data"
    }
   ],
   "source": [
    "display_metrics(X_test,y_test, SVC_est.best_estimator_, \"SVC\")"
   ]
  },
  {
   "cell_type": "code",
   "execution_count": 28,
   "metadata": {},
   "outputs": [
    {
     "data": {
      "text/plain": [
       "RandomForestClassifier(bootstrap=True, ccp_alpha=0.0, class_weight=None,\n",
       "                       criterion='entropy', max_depth=None, max_features='auto',\n",
       "                       max_leaf_nodes=None, max_samples=None,\n",
       "                       min_impurity_decrease=0.0, min_impurity_split=None,\n",
       "                       min_samples_leaf=1, min_samples_split=2,\n",
       "                       min_weight_fraction_leaf=0.0, n_estimators=105,\n",
       "                       n_jobs=None, oob_score=False, random_state=123,\n",
       "                       verbose=0, warm_start=False)"
      ]
     },
     "execution_count": 28,
     "metadata": {},
     "output_type": "execute_result"
    }
   ],
   "source": [
    "param_grid = {\n",
    "    'n_estimators':np.linspace(50,150, num=50).astype(int),\n",
    "    'criterion':['gini', 'entropy'],\n",
    "    'max_features':['auto', 'log2'],\n",
    "    'random_state': [123]\n",
    "}\n",
    "# instantiate the grid\n",
    "grid = GridSearchCV(RandomForestClassifier(), param_grid, cv=10, scoring='accuracy', return_train_score=True)\n",
    "rf_est = grid.fit(X_train,y_train)\n",
    "rf_est.best_estimator_"
   ]
  },
  {
   "cell_type": "code",
   "execution_count": 29,
   "metadata": {},
   "outputs": [
    {
     "name": "stdout",
     "output_type": "stream",
     "text": [
      "-------------------Metrics of Random Forest estimator-------------------\n",
      "\n",
      "              precision    recall  f1-score   support\n",
      "\n",
      "           0       0.76      0.76      0.76        29\n",
      "           1       0.78      0.78      0.78        32\n",
      "\n",
      "    accuracy                           0.77        61\n",
      "   macro avg       0.77      0.77      0.77        61\n",
      "weighted avg       0.77      0.77      0.77        61\n",
      "\n"
     ]
    },
    {
     "data": {
      "image/png": "[encoded data removed]",
      "text/plain": [
       "<Figure size 432x288 with 2 Axes>"
      ]
     },
     "metadata": {},
     "output_type": "display_data"
    },
    {
     "data": {
      "image/png": "[encoded data removed]",
      "text/plain": [
       "<Figure size 432x288 with 1 Axes>"
      ]
     },
     "metadata": {},
     "output_type": "display_data"
    }
   ],
   "source": [
    "display_metrics(X_test,y_test,rf_est.best_estimator_,\"Random Forest\")"
   ]
  },
  {
   "cell_type": "code",
   "execution_count": 30,
   "metadata": {},
   "outputs": [
    {
     "data": {
      "text/plain": [
       "AdaBoostClassifier(algorithm='SAMME.R', base_estimator=None, learning_rate=1.0,\n",
       "                   n_estimators=56, random_state=123)"
      ]
     },
     "execution_count": 30,
     "metadata": {},
     "output_type": "execute_result"
    }
   ],
   "source": [
    "param_grid = {\n",
    "    'base_estimator':[None, SVC(max_iter=1000), LogisticRegression(max_iter=1000)],\n",
    "    'n_estimators':np.linspace(50,150, num=50).astype(int),\n",
    "    'random_state': [123]\n",
    "}\n",
    "# instantiate the grid\n",
    "grid = GridSearchCV(AdaBoostClassifier(), param_grid, cv=10, scoring='accuracy', return_train_score=True)\n",
    "ada_est = grid.fit(X_train,y_train)\n",
    "ada_est.best_estimator_"
   ]
  },
  {
   "cell_type": "code",
   "execution_count": 31,
   "metadata": {},
   "outputs": [
    {
     "name": "stdout",
     "output_type": "stream",
     "text": [
      "-------------------Metrics of Ada Boost estimator-------------------\n",
      "\n",
      "              precision    recall  f1-score   support\n",
      "\n",
      "           0       0.74      0.86      0.79        29\n",
      "           1       0.85      0.72      0.78        32\n",
      "\n",
      "    accuracy                           0.79        61\n",
      "   macro avg       0.79      0.79      0.79        61\n",
      "weighted avg       0.80      0.79      0.79        61\n",
      "\n"
     ]
    },
    {
     "data": {
      "image/png": "[encoded data removed]",
      "text/plain": [
       "<Figure size 432x288 with 2 Axes>"
      ]
     },
     "metadata": {},
     "output_type": "display_data"
    },
    {
     "data": {
      "image/png": "[encoded data removed]",
      "text/plain": [
       "<Figure size 432x288 with 1 Axes>"
      ]
     },
     "metadata": {},
     "output_type": "display_data"
    }
   ],
   "source": [
    "display_metrics(X_test,y_test,ada_est.best_estimator_,\"Ada Boost\")"
   ]
  },
  {
   "cell_type": "markdown",
   "metadata": {},
   "source": [
    "From each of the classification reports we can see that Support Vector Machine performed the best with an accuracy of 89% and a true positive accuracy of 91%. In this use case having false positives aren't as bad. Having true negatives is very bad because it means there is a misdiagnosis which can lead to death. In this case 89% accuracy is not good enough for proper medical diagonosis but there are a few ways that this model can be improved. The use of more data can vastly improve the model, XGBoost and possibly deep learning can easily improve the performance of the model. The use of more powerful models will be worth the computational cost because it will decrease the classification error and catch almost all of the true negatives."
   ]
  },
  {
   "cell_type": "markdown",
   "metadata": {},
   "source": [
    "## Save the model "
   ]
  },
  {
   "cell_type": "code",
   "execution_count": 32,
   "metadata": {},
   "outputs": [],
   "source": [
    "pickle.dump(SVC_est.best_estimator_, open('model.pkl','wb'))"
   ]
  },
  {
   "cell_type": "markdown",
   "metadata": {},
   "source": [
    "## Reference\n",
    "The dataset was provided by the UCI Machine Learning Repository with the help of:\n",
    "1. Hungarian Institute of Cardiology. Budapest: Andras Janosi, M.D.\n",
    "2. University Hospital, Zurich, Switzerland: William Steinbrunn, M.D.\n",
    "3. University Hospital, Basel, Switzerland: Matthias Pfisterer, M.D.\n",
    "4. V.A. Medical Center, Long Beach and Cleveland Clinic Foundation:Robert Detrano, M.D., Ph.D."
   ]
  }
 ],
 "metadata": {
  "kernelspec": {
   "display_name": "Python 3",
   "language": "python",
   "name": "python3"
  },
  "language_info": {
   "codemirror_mode": {
    "name": "ipython",
    "version": 3
   },
   "file_extension": ".py",
   "mimetype": "text/x-python",
   "name": "python",
   "nbconvert_exporter": "python",
   "pygments_lexer": "ipython3",
   "version": "3.7.6"
  }
 },
 "nbformat": 4,
 "nbformat_minor": 4
}
